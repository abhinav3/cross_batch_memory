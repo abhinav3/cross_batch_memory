{
  "nbformat": 4,
  "nbformat_minor": 0,
  "metadata": {
    "colab": {
      "name": "PML Issue 421.ipynb",
      "provenance": [],
      "collapsed_sections": [],
      "include_colab_link": true
    },
    "kernelspec": {
      "name": "python3",
      "display_name": "Python 3"
    },
    "language_info": {
      "name": "python"
    },
    "accelerator": "GPU"
  },
  "cells": [
    {
      "cell_type": "markdown",
      "metadata": {
        "id": "view-in-github",
        "colab_type": "text"
      },
      "source": [
        "<a href=\"https://colab.research.google.com/github/abhinav3/cross_batch_memory/blob/main/PML_Issue_421.ipynb\" target=\"_parent\"><img src=\"https://colab.research.google.com/assets/colab-badge.svg\" alt=\"Open In Colab\"/></a>"
      ]
    },
    {
      "cell_type": "code",
      "execution_count": 2,
      "metadata": {
        "colab": {
          "base_uri": "https://localhost:8080/"
        },
        "id": "iretcYwNsuAU",
        "outputId": "b596fcc0-c031-4ddf-ad3b-f87353ae0ee2"
      },
      "outputs": [
        {
          "output_type": "stream",
          "name": "stdout",
          "text": [
            "Collecting pytorch-metric-learning\n",
            "  Downloading pytorch_metric_learning-1.1.0-py3-none-any.whl (106 kB)\n",
            "\u001b[?25l\r\u001b[K     |███                             | 10 kB 18.9 MB/s eta 0:00:01\r\u001b[K     |██████▏                         | 20 kB 5.3 MB/s eta 0:00:01\r\u001b[K     |█████████▏                      | 30 kB 6.3 MB/s eta 0:00:01\r\u001b[K     |████████████▎                   | 40 kB 5.6 MB/s eta 0:00:01\r\u001b[K     |███████████████▍                | 51 kB 5.6 MB/s eta 0:00:01\r\u001b[K     |██████████████████▍             | 61 kB 5.5 MB/s eta 0:00:01\r\u001b[K     |█████████████████████▌          | 71 kB 4.8 MB/s eta 0:00:01\r\u001b[K     |████████████████████████▋       | 81 kB 5.4 MB/s eta 0:00:01\r\u001b[K     |███████████████████████████▋    | 92 kB 5.6 MB/s eta 0:00:01\r\u001b[K     |██████████████████████████████▊ | 102 kB 5.6 MB/s eta 0:00:01\r\u001b[K     |████████████████████████████████| 106 kB 5.6 MB/s \n",
            "\u001b[?25hRequirement already satisfied: torchvision in /usr/local/lib/python3.7/dist-packages (from pytorch-metric-learning) (0.11.1+cu111)\n",
            "Requirement already satisfied: numpy in /usr/local/lib/python3.7/dist-packages (from pytorch-metric-learning) (1.19.5)\n",
            "Requirement already satisfied: scikit-learn in /usr/local/lib/python3.7/dist-packages (from pytorch-metric-learning) (1.0.2)\n",
            "Requirement already satisfied: torch>=1.6.0 in /usr/local/lib/python3.7/dist-packages (from pytorch-metric-learning) (1.10.0+cu111)\n",
            "Requirement already satisfied: tqdm in /usr/local/lib/python3.7/dist-packages (from pytorch-metric-learning) (4.62.3)\n",
            "Requirement already satisfied: typing-extensions in /usr/local/lib/python3.7/dist-packages (from torch>=1.6.0->pytorch-metric-learning) (3.10.0.2)\n",
            "Requirement already satisfied: joblib>=0.11 in /usr/local/lib/python3.7/dist-packages (from scikit-learn->pytorch-metric-learning) (1.1.0)\n",
            "Requirement already satisfied: scipy>=1.1.0 in /usr/local/lib/python3.7/dist-packages (from scikit-learn->pytorch-metric-learning) (1.4.1)\n",
            "Requirement already satisfied: threadpoolctl>=2.0.0 in /usr/local/lib/python3.7/dist-packages (from scikit-learn->pytorch-metric-learning) (3.1.0)\n",
            "Requirement already satisfied: pillow!=8.3.0,>=5.3.0 in /usr/local/lib/python3.7/dist-packages (from torchvision->pytorch-metric-learning) (7.1.2)\n",
            "Installing collected packages: pytorch-metric-learning\n",
            "Successfully installed pytorch-metric-learning-1.1.0\n"
          ]
        }
      ],
      "source": [
        "pip install pytorch-metric-learning"
      ]
    },
    {
      "cell_type": "code",
      "source": [
        "import torch\n",
        "import torchvision\n",
        "from pytorch_metric_learning import losses, distances, regularizers\n",
        "import tqdm\n",
        "import psutil\n",
        "import sys\n",
        "import os\n",
        "\n",
        "# https://discuss.pytorch.org/t/inspect-memory-usage/7046\n",
        "def cpuStats():\n",
        "    pid = os.getpid()\n",
        "    py = psutil.Process(pid)\n",
        "    memoryUse = py.memory_info()[0] / 2. ** 30  # memory use in GB...I think\n",
        "    return memoryUse\n",
        "\n",
        "device = torch.device(\"cuda\")\n",
        "model = torchvision.models.resnet18().to(device)\n",
        "optimizer = torch.optim.Adam(model.parameters(), lr=0.00001)\n",
        "loss_fn = losses.TripletMarginLoss(distance = distances.CosineSimilarity(), margin=0.2, embedding_regularizer = regularizers.LpRegularizer())\n",
        "dataset = torchvision.datasets.FakeData(transform=torchvision.transforms.ToTensor())\n",
        "dataloader = torch.utils.data.DataLoader(dataset, batch_size=32, num_workers=2)\n",
        "\n",
        "##########\n",
        "class AverageMeter(object):\n",
        "    \"\"\"Computes and stores the average and current value\"\"\"\n",
        "\n",
        "    def __init__(self):\n",
        "        self.reset()\n",
        "\n",
        "    def reset(self):\n",
        "        self.val = 0\n",
        "        self.avg = 0\n",
        "        self.sum = 0\n",
        "        self.count = 0\n",
        "\n",
        "    def update(self, val, n=1):\n",
        "        self.val = val\n",
        "        self.sum += val * n\n",
        "        self.count += n\n",
        "        self.avg = self.sum / self.count\n",
        "##########\n",
        "for epoch in range(10):\n",
        "    train_losses = AverageMeter()\n",
        "    print(\"epoch\", epoch)\n",
        "    pbar = tqdm.tqdm(dataloader)\n",
        "    for imgs, labels in pbar:\n",
        "        pbar.set_description(f\"CPU memory usage = {cpuStats()} GB\")\n",
        "        embeddings = model(imgs.to(device))\n",
        "        loss = loss_fn(embeddings, labels)\n",
        "        train_losses.update(loss, imgs.size(0))\n",
        "        optimizer.zero_grad()\n",
        "        loss.backward()\n",
        "        optimizer.step()"
      ],
      "metadata": {
        "colab": {
          "base_uri": "https://localhost:8080/"
        },
        "id": "6ZOMvhLvsw_a",
        "outputId": "75540728-57a3-4cdc-85bc-971e0d042747"
      },
      "execution_count": 4,
      "outputs": [
        {
          "output_type": "stream",
          "name": "stdout",
          "text": [
            "epoch 0\n"
          ]
        },
        {
          "output_type": "stream",
          "name": "stderr",
          "text": [
            "CPU memory usage = 3.0142173767089844 GB: 100%|██████████| 32/32 [00:07<00:00,  4.49it/s]\n"
          ]
        },
        {
          "output_type": "stream",
          "name": "stdout",
          "text": [
            "epoch 1\n"
          ]
        },
        {
          "output_type": "stream",
          "name": "stderr",
          "text": [
            "CPU memory usage = 3.01068115234375 GB: 100%|██████████| 32/32 [00:06<00:00,  4.61it/s]\n"
          ]
        },
        {
          "output_type": "stream",
          "name": "stdout",
          "text": [
            "epoch 2\n"
          ]
        },
        {
          "output_type": "stream",
          "name": "stderr",
          "text": [
            "CPU memory usage = 3.012035369873047 GB: 100%|██████████| 32/32 [00:06<00:00,  4.57it/s]\n"
          ]
        },
        {
          "output_type": "stream",
          "name": "stdout",
          "text": [
            "epoch 3\n"
          ]
        },
        {
          "output_type": "stream",
          "name": "stderr",
          "text": [
            "CPU memory usage = 3.012584686279297 GB: 100%|██████████| 32/32 [00:06<00:00,  4.61it/s]\n"
          ]
        },
        {
          "output_type": "stream",
          "name": "stdout",
          "text": [
            "epoch 4\n"
          ]
        },
        {
          "output_type": "stream",
          "name": "stderr",
          "text": [
            "CPU memory usage = 3.0135040283203125 GB: 100%|██████████| 32/32 [00:06<00:00,  4.60it/s]\n"
          ]
        },
        {
          "output_type": "stream",
          "name": "stdout",
          "text": [
            "epoch 5\n"
          ]
        },
        {
          "output_type": "stream",
          "name": "stderr",
          "text": [
            "CPU memory usage = 3.0110015869140625 GB: 100%|██████████| 32/32 [00:06<00:00,  4.59it/s]\n"
          ]
        },
        {
          "output_type": "stream",
          "name": "stdout",
          "text": [
            "epoch 6\n"
          ]
        },
        {
          "output_type": "stream",
          "name": "stderr",
          "text": [
            "CPU memory usage = 3.0126495361328125 GB: 100%|██████████| 32/32 [00:07<00:00,  4.56it/s]\n"
          ]
        },
        {
          "output_type": "stream",
          "name": "stdout",
          "text": [
            "epoch 7\n"
          ]
        },
        {
          "output_type": "stream",
          "name": "stderr",
          "text": [
            "CPU memory usage = 3.0136375427246094 GB: 100%|██████████| 32/32 [00:07<00:00,  4.57it/s]\n"
          ]
        },
        {
          "output_type": "stream",
          "name": "stdout",
          "text": [
            "epoch 8\n"
          ]
        },
        {
          "output_type": "stream",
          "name": "stderr",
          "text": [
            "CPU memory usage = 3.0129661560058594 GB: 100%|██████████| 32/32 [00:06<00:00,  4.57it/s]\n"
          ]
        },
        {
          "output_type": "stream",
          "name": "stdout",
          "text": [
            "epoch 9\n"
          ]
        },
        {
          "output_type": "stream",
          "name": "stderr",
          "text": [
            "CPU memory usage = 3.0127830505371094 GB: 100%|██████████| 32/32 [00:06<00:00,  4.58it/s]\n"
          ]
        }
      ]
    },
    {
      "cell_type": "code",
      "source": [
        ""
      ],
      "metadata": {
        "id": "Had_CvZyu7Oq"
      },
      "execution_count": null,
      "outputs": []
    }
  ]
}